{
 "cells": [
  {
   "cell_type": "code",
   "execution_count": 1,
   "metadata": {},
   "outputs": [],
   "source": [
    "import os \n",
    "import pandas as pd \n",
    "import numpy as np\n",
    "import seaborn as sns\n",
    "import sklearn as sklearn\n",
    "import matplotlib"
   ]
  },
  {
   "cell_type": "code",
   "execution_count": 2,
   "metadata": {},
   "outputs": [],
   "source": [
    "path=\"/Users/nazeeha/Downloads\"\n",
    "os.chdir(path)"
   ]
  },
  {
   "cell_type": "code",
   "execution_count": 3,
   "metadata": {},
   "outputs": [
    {
     "data": {
      "text/html": [
       "<div>\n",
       "<style scoped>\n",
       "    .dataframe tbody tr th:only-of-type {\n",
       "        vertical-align: middle;\n",
       "    }\n",
       "\n",
       "    .dataframe tbody tr th {\n",
       "        vertical-align: top;\n",
       "    }\n",
       "\n",
       "    .dataframe thead th {\n",
       "        text-align: right;\n",
       "    }\n",
       "</style>\n",
       "<table border=\"1\" class=\"dataframe\">\n",
       "  <thead>\n",
       "    <tr style=\"text-align: right;\">\n",
       "      <th></th>\n",
       "      <th>INCIDENT_DATE</th>\n",
       "      <th>INCIDENT_TIME</th>\n",
       "      <th>UOF_NUMBER</th>\n",
       "      <th>OFFICER_ID</th>\n",
       "      <th>OFFICER_GENDER</th>\n",
       "      <th>OFFICER_RACE</th>\n",
       "      <th>OFFICER_HIRE_DATE</th>\n",
       "      <th>OFFICER_YEARS_ON_FORCE</th>\n",
       "      <th>OFFICER_INJURY</th>\n",
       "      <th>OFFICER_INJURY_TYPE</th>\n",
       "      <th>...</th>\n",
       "      <th>TYPE_OF_FORCE_USED3</th>\n",
       "      <th>TYPE_OF_FORCE_USED4</th>\n",
       "      <th>TYPE_OF_FORCE_USED5</th>\n",
       "      <th>TYPE_OF_FORCE_USED6</th>\n",
       "      <th>TYPE_OF_FORCE_USED7</th>\n",
       "      <th>TYPE_OF_FORCE_USED8</th>\n",
       "      <th>TYPE_OF_FORCE_USED9</th>\n",
       "      <th>TYPE_OF_FORCE_USED10</th>\n",
       "      <th>NUMBER_EC_CYCLES</th>\n",
       "      <th>FORCE_EFFECTIVE</th>\n",
       "    </tr>\n",
       "  </thead>\n",
       "  <tbody>\n",
       "    <tr>\n",
       "      <th>0</th>\n",
       "      <td>OCCURRED_D</td>\n",
       "      <td>OCCURRED_T</td>\n",
       "      <td>UOFNum</td>\n",
       "      <td>CURRENT_BA</td>\n",
       "      <td>OffSex</td>\n",
       "      <td>OffRace</td>\n",
       "      <td>HIRE_DT</td>\n",
       "      <td>INCIDENT_DATE_LESS_</td>\n",
       "      <td>OFF_INJURE</td>\n",
       "      <td>OFF_INJURE_DESC</td>\n",
       "      <td>...</td>\n",
       "      <td>ForceType3</td>\n",
       "      <td>ForceType4</td>\n",
       "      <td>ForceType5</td>\n",
       "      <td>ForceType6</td>\n",
       "      <td>ForceType7</td>\n",
       "      <td>ForceType8</td>\n",
       "      <td>ForceType9</td>\n",
       "      <td>ForceType10</td>\n",
       "      <td>Cycles_Num</td>\n",
       "      <td>ForceEffec</td>\n",
       "    </tr>\n",
       "    <tr>\n",
       "      <th>1</th>\n",
       "      <td>9/3/16</td>\n",
       "      <td>4:14:00 AM</td>\n",
       "      <td>37702</td>\n",
       "      <td>10810</td>\n",
       "      <td>Male</td>\n",
       "      <td>Black</td>\n",
       "      <td>5/7/14</td>\n",
       "      <td>2</td>\n",
       "      <td>No</td>\n",
       "      <td>No injuries noted or visible</td>\n",
       "      <td>...</td>\n",
       "      <td>NaN</td>\n",
       "      <td>NaN</td>\n",
       "      <td>NaN</td>\n",
       "      <td>NaN</td>\n",
       "      <td>NaN</td>\n",
       "      <td>NaN</td>\n",
       "      <td>NaN</td>\n",
       "      <td>NaN</td>\n",
       "      <td>NaN</td>\n",
       "      <td>Yes</td>\n",
       "    </tr>\n",
       "    <tr>\n",
       "      <th>2</th>\n",
       "      <td>3/22/16</td>\n",
       "      <td>11:00:00 PM</td>\n",
       "      <td>33413</td>\n",
       "      <td>7706</td>\n",
       "      <td>Male</td>\n",
       "      <td>White</td>\n",
       "      <td>1/8/99</td>\n",
       "      <td>17</td>\n",
       "      <td>Yes</td>\n",
       "      <td>Sprain/Strain</td>\n",
       "      <td>...</td>\n",
       "      <td>NaN</td>\n",
       "      <td>NaN</td>\n",
       "      <td>NaN</td>\n",
       "      <td>NaN</td>\n",
       "      <td>NaN</td>\n",
       "      <td>NaN</td>\n",
       "      <td>NaN</td>\n",
       "      <td>NaN</td>\n",
       "      <td>NaN</td>\n",
       "      <td>Yes</td>\n",
       "    </tr>\n",
       "    <tr>\n",
       "      <th>3</th>\n",
       "      <td>5/22/16</td>\n",
       "      <td>1:29:00 PM</td>\n",
       "      <td>34567</td>\n",
       "      <td>11014</td>\n",
       "      <td>Male</td>\n",
       "      <td>Black</td>\n",
       "      <td>5/20/15</td>\n",
       "      <td>1</td>\n",
       "      <td>No</td>\n",
       "      <td>No injuries noted or visible</td>\n",
       "      <td>...</td>\n",
       "      <td>NaN</td>\n",
       "      <td>NaN</td>\n",
       "      <td>NaN</td>\n",
       "      <td>NaN</td>\n",
       "      <td>NaN</td>\n",
       "      <td>NaN</td>\n",
       "      <td>NaN</td>\n",
       "      <td>NaN</td>\n",
       "      <td>NaN</td>\n",
       "      <td>Yes</td>\n",
       "    </tr>\n",
       "    <tr>\n",
       "      <th>4</th>\n",
       "      <td>1/10/16</td>\n",
       "      <td>8:55:00 PM</td>\n",
       "      <td>31460</td>\n",
       "      <td>6692</td>\n",
       "      <td>Male</td>\n",
       "      <td>Black</td>\n",
       "      <td>7/29/91</td>\n",
       "      <td>24</td>\n",
       "      <td>No</td>\n",
       "      <td>No injuries noted or visible</td>\n",
       "      <td>...</td>\n",
       "      <td>NaN</td>\n",
       "      <td>NaN</td>\n",
       "      <td>NaN</td>\n",
       "      <td>NaN</td>\n",
       "      <td>NaN</td>\n",
       "      <td>NaN</td>\n",
       "      <td>NaN</td>\n",
       "      <td>NaN</td>\n",
       "      <td>NaN</td>\n",
       "      <td>Yes</td>\n",
       "    </tr>\n",
       "  </tbody>\n",
       "</table>\n",
       "<p>5 rows × 47 columns</p>\n",
       "</div>"
      ],
      "text/plain": [
       "  INCIDENT_DATE INCIDENT_TIME UOF_NUMBER  OFFICER_ID OFFICER_GENDER  \\\n",
       "0    OCCURRED_D    OCCURRED_T     UOFNum  CURRENT_BA         OffSex   \n",
       "1        9/3/16    4:14:00 AM      37702       10810           Male   \n",
       "2       3/22/16   11:00:00 PM      33413        7706           Male   \n",
       "3       5/22/16    1:29:00 PM      34567       11014           Male   \n",
       "4       1/10/16    8:55:00 PM      31460        6692           Male   \n",
       "\n",
       "  OFFICER_RACE OFFICER_HIRE_DATE OFFICER_YEARS_ON_FORCE OFFICER_INJURY  \\\n",
       "0      OffRace           HIRE_DT    INCIDENT_DATE_LESS_     OFF_INJURE   \n",
       "1        Black            5/7/14                      2             No   \n",
       "2        White            1/8/99                     17            Yes   \n",
       "3        Black           5/20/15                      1             No   \n",
       "4        Black           7/29/91                     24             No   \n",
       "\n",
       "            OFFICER_INJURY_TYPE  ... TYPE_OF_FORCE_USED3 TYPE_OF_FORCE_USED4  \\\n",
       "0               OFF_INJURE_DESC  ...          ForceType3          ForceType4   \n",
       "1  No injuries noted or visible  ...                 NaN                 NaN   \n",
       "2                 Sprain/Strain  ...                 NaN                 NaN   \n",
       "3  No injuries noted or visible  ...                 NaN                 NaN   \n",
       "4  No injuries noted or visible  ...                 NaN                 NaN   \n",
       "\n",
       "  TYPE_OF_FORCE_USED5 TYPE_OF_FORCE_USED6 TYPE_OF_FORCE_USED7  \\\n",
       "0          ForceType5          ForceType6          ForceType7   \n",
       "1                 NaN                 NaN                 NaN   \n",
       "2                 NaN                 NaN                 NaN   \n",
       "3                 NaN                 NaN                 NaN   \n",
       "4                 NaN                 NaN                 NaN   \n",
       "\n",
       "  TYPE_OF_FORCE_USED8 TYPE_OF_FORCE_USED9 TYPE_OF_FORCE_USED10  \\\n",
       "0          ForceType8          ForceType9          ForceType10   \n",
       "1                 NaN                 NaN                  NaN   \n",
       "2                 NaN                 NaN                  NaN   \n",
       "3                 NaN                 NaN                  NaN   \n",
       "4                 NaN                 NaN                  NaN   \n",
       "\n",
       "  NUMBER_EC_CYCLES FORCE_EFFECTIVE  \n",
       "0       Cycles_Num      ForceEffec  \n",
       "1              NaN             Yes  \n",
       "2              NaN             Yes  \n",
       "3              NaN             Yes  \n",
       "4              NaN             Yes  \n",
       "\n",
       "[5 rows x 47 columns]"
      ]
     },
     "execution_count": 3,
     "metadata": {},
     "output_type": "execute_result"
    }
   ],
   "source": [
    "df = pd.read_csv(\"ASSIDATA_CE888.csv\")\n",
    "df.head()"
   ]
  },
  {
   "cell_type": "code",
   "execution_count": 4,
   "metadata": {},
   "outputs": [],
   "source": [
    "#first row seems redundant\n",
    "df = df.drop(index=[0] , axis=0)"
   ]
  },
  {
   "cell_type": "code",
   "execution_count": 5,
   "metadata": {},
   "outputs": [
    {
     "data": {
      "text/html": [
       "<div>\n",
       "<style scoped>\n",
       "    .dataframe tbody tr th:only-of-type {\n",
       "        vertical-align: middle;\n",
       "    }\n",
       "\n",
       "    .dataframe tbody tr th {\n",
       "        vertical-align: top;\n",
       "    }\n",
       "\n",
       "    .dataframe thead th {\n",
       "        text-align: right;\n",
       "    }\n",
       "</style>\n",
       "<table border=\"1\" class=\"dataframe\">\n",
       "  <thead>\n",
       "    <tr style=\"text-align: right;\">\n",
       "      <th></th>\n",
       "      <th>INCIDENT_DATE</th>\n",
       "      <th>INCIDENT_TIME</th>\n",
       "      <th>UOF_NUMBER</th>\n",
       "      <th>OFFICER_ID</th>\n",
       "      <th>OFFICER_GENDER</th>\n",
       "      <th>OFFICER_RACE</th>\n",
       "      <th>OFFICER_HIRE_DATE</th>\n",
       "      <th>OFFICER_YEARS_ON_FORCE</th>\n",
       "      <th>OFFICER_INJURY</th>\n",
       "      <th>OFFICER_INJURY_TYPE</th>\n",
       "      <th>...</th>\n",
       "      <th>TYPE_OF_FORCE_USED3</th>\n",
       "      <th>TYPE_OF_FORCE_USED4</th>\n",
       "      <th>TYPE_OF_FORCE_USED5</th>\n",
       "      <th>TYPE_OF_FORCE_USED6</th>\n",
       "      <th>TYPE_OF_FORCE_USED7</th>\n",
       "      <th>TYPE_OF_FORCE_USED8</th>\n",
       "      <th>TYPE_OF_FORCE_USED9</th>\n",
       "      <th>TYPE_OF_FORCE_USED10</th>\n",
       "      <th>NUMBER_EC_CYCLES</th>\n",
       "      <th>FORCE_EFFECTIVE</th>\n",
       "    </tr>\n",
       "  </thead>\n",
       "  <tbody>\n",
       "    <tr>\n",
       "      <th>1</th>\n",
       "      <td>9/3/16</td>\n",
       "      <td>4:14:00 AM</td>\n",
       "      <td>37702</td>\n",
       "      <td>10810</td>\n",
       "      <td>Male</td>\n",
       "      <td>Black</td>\n",
       "      <td>5/7/14</td>\n",
       "      <td>2</td>\n",
       "      <td>No</td>\n",
       "      <td>No injuries noted or visible</td>\n",
       "      <td>...</td>\n",
       "      <td>NaN</td>\n",
       "      <td>NaN</td>\n",
       "      <td>NaN</td>\n",
       "      <td>NaN</td>\n",
       "      <td>NaN</td>\n",
       "      <td>NaN</td>\n",
       "      <td>NaN</td>\n",
       "      <td>NaN</td>\n",
       "      <td>NaN</td>\n",
       "      <td>Yes</td>\n",
       "    </tr>\n",
       "    <tr>\n",
       "      <th>2</th>\n",
       "      <td>3/22/16</td>\n",
       "      <td>11:00:00 PM</td>\n",
       "      <td>33413</td>\n",
       "      <td>7706</td>\n",
       "      <td>Male</td>\n",
       "      <td>White</td>\n",
       "      <td>1/8/99</td>\n",
       "      <td>17</td>\n",
       "      <td>Yes</td>\n",
       "      <td>Sprain/Strain</td>\n",
       "      <td>...</td>\n",
       "      <td>NaN</td>\n",
       "      <td>NaN</td>\n",
       "      <td>NaN</td>\n",
       "      <td>NaN</td>\n",
       "      <td>NaN</td>\n",
       "      <td>NaN</td>\n",
       "      <td>NaN</td>\n",
       "      <td>NaN</td>\n",
       "      <td>NaN</td>\n",
       "      <td>Yes</td>\n",
       "    </tr>\n",
       "    <tr>\n",
       "      <th>3</th>\n",
       "      <td>5/22/16</td>\n",
       "      <td>1:29:00 PM</td>\n",
       "      <td>34567</td>\n",
       "      <td>11014</td>\n",
       "      <td>Male</td>\n",
       "      <td>Black</td>\n",
       "      <td>5/20/15</td>\n",
       "      <td>1</td>\n",
       "      <td>No</td>\n",
       "      <td>No injuries noted or visible</td>\n",
       "      <td>...</td>\n",
       "      <td>NaN</td>\n",
       "      <td>NaN</td>\n",
       "      <td>NaN</td>\n",
       "      <td>NaN</td>\n",
       "      <td>NaN</td>\n",
       "      <td>NaN</td>\n",
       "      <td>NaN</td>\n",
       "      <td>NaN</td>\n",
       "      <td>NaN</td>\n",
       "      <td>Yes</td>\n",
       "    </tr>\n",
       "    <tr>\n",
       "      <th>4</th>\n",
       "      <td>1/10/16</td>\n",
       "      <td>8:55:00 PM</td>\n",
       "      <td>31460</td>\n",
       "      <td>6692</td>\n",
       "      <td>Male</td>\n",
       "      <td>Black</td>\n",
       "      <td>7/29/91</td>\n",
       "      <td>24</td>\n",
       "      <td>No</td>\n",
       "      <td>No injuries noted or visible</td>\n",
       "      <td>...</td>\n",
       "      <td>NaN</td>\n",
       "      <td>NaN</td>\n",
       "      <td>NaN</td>\n",
       "      <td>NaN</td>\n",
       "      <td>NaN</td>\n",
       "      <td>NaN</td>\n",
       "      <td>NaN</td>\n",
       "      <td>NaN</td>\n",
       "      <td>NaN</td>\n",
       "      <td>Yes</td>\n",
       "    </tr>\n",
       "    <tr>\n",
       "      <th>5</th>\n",
       "      <td>11/8/16</td>\n",
       "      <td>2:30:00 AM</td>\n",
       "      <td>37879, 37898</td>\n",
       "      <td>9844</td>\n",
       "      <td>Male</td>\n",
       "      <td>White</td>\n",
       "      <td>10/4/09</td>\n",
       "      <td>7</td>\n",
       "      <td>No</td>\n",
       "      <td>No injuries noted or visible</td>\n",
       "      <td>...</td>\n",
       "      <td>NaN</td>\n",
       "      <td>NaN</td>\n",
       "      <td>NaN</td>\n",
       "      <td>NaN</td>\n",
       "      <td>NaN</td>\n",
       "      <td>NaN</td>\n",
       "      <td>NaN</td>\n",
       "      <td>NaN</td>\n",
       "      <td>NaN</td>\n",
       "      <td>No, Yes</td>\n",
       "    </tr>\n",
       "  </tbody>\n",
       "</table>\n",
       "<p>5 rows × 47 columns</p>\n",
       "</div>"
      ],
      "text/plain": [
       "  INCIDENT_DATE INCIDENT_TIME    UOF_NUMBER OFFICER_ID OFFICER_GENDER  \\\n",
       "1        9/3/16    4:14:00 AM         37702      10810           Male   \n",
       "2       3/22/16   11:00:00 PM         33413       7706           Male   \n",
       "3       5/22/16    1:29:00 PM         34567      11014           Male   \n",
       "4       1/10/16    8:55:00 PM         31460       6692           Male   \n",
       "5       11/8/16    2:30:00 AM  37879, 37898       9844           Male   \n",
       "\n",
       "  OFFICER_RACE OFFICER_HIRE_DATE OFFICER_YEARS_ON_FORCE OFFICER_INJURY  \\\n",
       "1        Black            5/7/14                      2             No   \n",
       "2        White            1/8/99                     17            Yes   \n",
       "3        Black           5/20/15                      1             No   \n",
       "4        Black           7/29/91                     24             No   \n",
       "5        White           10/4/09                      7             No   \n",
       "\n",
       "            OFFICER_INJURY_TYPE  ... TYPE_OF_FORCE_USED3 TYPE_OF_FORCE_USED4  \\\n",
       "1  No injuries noted or visible  ...                 NaN                 NaN   \n",
       "2                 Sprain/Strain  ...                 NaN                 NaN   \n",
       "3  No injuries noted or visible  ...                 NaN                 NaN   \n",
       "4  No injuries noted or visible  ...                 NaN                 NaN   \n",
       "5  No injuries noted or visible  ...                 NaN                 NaN   \n",
       "\n",
       "  TYPE_OF_FORCE_USED5 TYPE_OF_FORCE_USED6 TYPE_OF_FORCE_USED7  \\\n",
       "1                 NaN                 NaN                 NaN   \n",
       "2                 NaN                 NaN                 NaN   \n",
       "3                 NaN                 NaN                 NaN   \n",
       "4                 NaN                 NaN                 NaN   \n",
       "5                 NaN                 NaN                 NaN   \n",
       "\n",
       "  TYPE_OF_FORCE_USED8 TYPE_OF_FORCE_USED9 TYPE_OF_FORCE_USED10  \\\n",
       "1                 NaN                 NaN                  NaN   \n",
       "2                 NaN                 NaN                  NaN   \n",
       "3                 NaN                 NaN                  NaN   \n",
       "4                 NaN                 NaN                  NaN   \n",
       "5                 NaN                 NaN                  NaN   \n",
       "\n",
       "  NUMBER_EC_CYCLES FORCE_EFFECTIVE  \n",
       "1              NaN             Yes  \n",
       "2              NaN             Yes  \n",
       "3              NaN             Yes  \n",
       "4              NaN             Yes  \n",
       "5              NaN         No, Yes  \n",
       "\n",
       "[5 rows x 47 columns]"
      ]
     },
     "execution_count": 5,
     "metadata": {},
     "output_type": "execute_result"
    }
   ],
   "source": [
    "df.head()"
   ]
  },
  {
   "cell_type": "code",
   "execution_count": 6,
   "metadata": {},
   "outputs": [
    {
     "data": {
      "text/plain": [
       "(2383, 47)"
      ]
     },
     "execution_count": 6,
     "metadata": {},
     "output_type": "execute_result"
    }
   ],
   "source": [
    "#data size\n",
    "df.shape"
   ]
  },
  {
   "cell_type": "code",
   "execution_count": 7,
   "metadata": {},
   "outputs": [
    {
     "data": {
      "text/plain": [
       "INCIDENT_DATE                                      0\n",
       "INCIDENT_TIME                                     10\n",
       "UOF_NUMBER                                         0\n",
       "OFFICER_ID                                         0\n",
       "OFFICER_GENDER                                     0\n",
       "OFFICER_RACE                                       0\n",
       "OFFICER_HIRE_DATE                                  0\n",
       "OFFICER_YEARS_ON_FORCE                             0\n",
       "OFFICER_INJURY                                     0\n",
       "OFFICER_INJURY_TYPE                                0\n",
       "OFFICER_HOSPITALIZATION                            0\n",
       "SUBJECT_ID                                         0\n",
       "SUBJECT_RACE                                       0\n",
       "SUBJECT_GENDER                                     0\n",
       "SUBJECT_INJURY                                     0\n",
       "SUBJECT_INJURY_TYPE                                0\n",
       "SUBJECT_WAS_ARRESTED                               0\n",
       "SUBJECT_DESCRIPTION                               76\n",
       "SUBJECT_OFFENSE                                    0\n",
       "REPORTING_AREA                                     0\n",
       "BEAT                                               0\n",
       "SECTOR                                             0\n",
       "DIVISION                                           0\n",
       "LOCATION_DISTRICT                                  0\n",
       "STREET_NUMBER                                      0\n",
       "STREET_NAME                                        0\n",
       "STREET_DIRECTION                                1728\n",
       "STREET_TYPE                                      143\n",
       "LOCATION_FULL_STREET_ADDRESS_OR_INTERSECTION       0\n",
       "LOCATION_CITY                                      0\n",
       "LOCATION_STATE                                     0\n",
       "LOCATION_LATITUDE                                 55\n",
       "LOCATION_LONGITUDE                                55\n",
       "INCIDENT_REASON                                   11\n",
       "REASON_FOR_FORCE                                  11\n",
       "TYPE_OF_FORCE_USED1                                0\n",
       "TYPE_OF_FORCE_USED2                              747\n",
       "TYPE_OF_FORCE_USED3                             1510\n",
       "TYPE_OF_FORCE_USED4                             1996\n",
       "TYPE_OF_FORCE_USED5                             2226\n",
       "TYPE_OF_FORCE_USED6                             2322\n",
       "TYPE_OF_FORCE_USED7                             2361\n",
       "TYPE_OF_FORCE_USED8                             2378\n",
       "TYPE_OF_FORCE_USED9                             2382\n",
       "TYPE_OF_FORCE_USED10                            2382\n",
       "NUMBER_EC_CYCLES                                2226\n",
       "FORCE_EFFECTIVE                                    0\n",
       "dtype: int64"
      ]
     },
     "execution_count": 7,
     "metadata": {},
     "output_type": "execute_result"
    }
   ],
   "source": [
    "df.isna().sum()"
   ]
  },
  {
   "cell_type": "markdown",
   "metadata": {},
   "source": [
    "##### there are a lot of columns that are empty or with majority null values, and hence not of use .In the remaining columns there are a lot of \n",
    "##### columns specifying adress in different forms, we will not be using all of the forms and use restricted features"
   ]
  },
  {
   "cell_type": "code",
   "execution_count": 12,
   "metadata": {},
   "outputs": [],
   "source": [
    "#some explorations and visualisations"
   ]
  },
  {
   "cell_type": "code",
   "execution_count": 16,
   "metadata": {},
   "outputs": [
    {
     "data": {
      "text/plain": [
       "<AxesSubplot:xlabel='SUBJECT_WAS_ARRESTED', ylabel='Count'>"
      ]
     },
     "execution_count": 16,
     "metadata": {},
     "output_type": "execute_result"
    },
    {
     "data": {
      "image/png": "[encoded data removed]",
      "text/plain": [
       "<Figure size 432x288 with 1 Axes>"
      ]
     },
     "metadata": {
      "needs_background": "light"
     },
     "output_type": "display_data"
    }
   ],
   "source": [
    "#number of arrests? \n",
    "sns.histplot(df , x=\"SUBJECT_WAS_ARRESTED\")"
   ]
  },
  {
   "cell_type": "code",
   "execution_count": null,
   "metadata": {},
   "outputs": [],
   "source": [
    "#however, as this could be considered another sensitive attribute, we will not be including gender or race of \n",
    "#officers for bias mitigation"
   ]
  },
  {
   "cell_type": "code",
   "execution_count": 11,
   "metadata": {},
   "outputs": [
    {
     "data": {
      "text/plain": [
       "<AxesSubplot:xlabel='OFFICER_YEARS_ON_FORCE', ylabel='Count'>"
      ]
     },
     "execution_count": 11,
     "metadata": {},
     "output_type": "execute_result"
    },
    {
     "data": {
      "image/png": "[encoded data removed]",
      "text/plain": [
       "<Figure size 432x288 with 1 Axes>"
      ]
     },
     "metadata": {
      "needs_background": "light"
     },
     "output_type": "display_data"
    }
   ],
   "source": [
    "#how much experience do the officers have?\n",
    "sns.histplot(df , x= \"OFFICER_YEARS_ON_FORCE\") #the numbers seem to be unsorted"
   ]
  },
  {
   "cell_type": "code",
   "execution_count": 13,
   "metadata": {},
   "outputs": [],
   "source": [
    "#this could be because the values are strings instead of number, hence converting to numeric values\n",
    "df['OFFICER_YEARS_ON_FORCE'] = pd.to_numeric(df['OFFICER_YEARS_ON_FORCE'])"
   ]
  },
  {
   "cell_type": "code",
   "execution_count": 15,
   "metadata": {},
   "outputs": [
    {
     "data": {
      "text/plain": [
       "<AxesSubplot:xlabel='OFFICER_YEARS_ON_FORCE', ylabel='Count'>"
      ]
     },
     "execution_count": 15,
     "metadata": {},
     "output_type": "execute_result"
    },
    {
     "data": {
      "image/png": "[encoded data removed]",
      "text/plain": [
       "<Figure size 432x288 with 1 Axes>"
      ]
     },
     "metadata": {
      "needs_background": "light"
     },
     "output_type": "display_data"
    }
   ],
   "source": [
    "sns.histplot(df , x= \"OFFICER_YEARS_ON_FORCE\") #officer with lower experience are more"
   ]
  },
  {
   "cell_type": "code",
   "execution_count": null,
   "metadata": {},
   "outputs": [],
   "source": [
    "#further data preprocessing for bias detection and mitigation are done in two different notebooks"
   ]
  }
 ],
 "metadata": {
  "kernelspec": {
   "display_name": "Python 3",
   "language": "python",
   "name": "python3"
  },
  "language_info": {
   "codemirror_mode": {
    "name": "ipython",
    "version": 3
   },
   "file_extension": ".py",
   "mimetype": "text/x-python",
   "name": "python",
   "nbconvert_exporter": "python",
   "pygments_lexer": "ipython3",
   "version": "3.8.5"
  }
 },
 "nbformat": 4,
 "nbformat_minor": 4
}
