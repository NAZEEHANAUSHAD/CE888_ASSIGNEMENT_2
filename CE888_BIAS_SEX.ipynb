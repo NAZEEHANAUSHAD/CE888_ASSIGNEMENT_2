{
 "cells": [
  {
   "cell_type": "code",
   "execution_count": null,
   "metadata": {},
   "outputs": [],
   "source": [
    "#the algorithms used below is provided in the aif360 toolbox cited in the report\n",
    "#example notebooks referred"
   ]
  },
  {
   "cell_type": "code",
   "execution_count": null,
   "metadata": {},
   "outputs": [],
   "source": [
    "#importing necessary libraries\n",
    "import pandas as pd \n",
    "import numpy as np\n",
    "import seaborn as sns\n",
    "import sklearn as sklearn\n",
    "import matplotlib\n",
    "import os\n",
    "import cvxpy as cp\n",
    "\n",
    "from tqdm import tqdm\n",
    "from matplotlib import pyplot as plt\n",
    "\n",
    "\n",
    "from sklearn.preprocessing import LabelEncoder\n",
    "from aif360.datasets import StandardDataset\n",
    "\n",
    "from aif360.metrics import BinaryLabelDatasetMetric\n",
    "from IPython.display import Markdown, display\n",
    "\n",
    "from sklearn.linear_model import LogisticRegression\n",
    "from sklearn.preprocessing import StandardScaler\n",
    "from sklearn.metrics import accuracy_score\n",
    "from sklearn.metrics import classification_report\n",
    "from sklearn.preprocessing import MinMaxScaler\n",
    "\n",
    "from aif360.algorithms.preprocessing.reweighing import Reweighing\n",
    "\n",
    "from aif360.metrics import ClassificationMetric\n",
    "from collections import OrderedDict\n"
   ]
  },
  {
   "cell_type": "code",
   "execution_count": 4,
   "metadata": {},
   "outputs": [],
   "source": [
    "#setting directory\n",
    "#path=\"/Users/nazeeha/Downloads\"\n",
    "#os.chdir(path)"
   ]
  },
  {
   "cell_type": "code",
   "execution_count": 5,
   "metadata": {},
   "outputs": [],
   "source": [
    "#load data\n",
    "df = pd.read_csv(\"ASSIDATA_CE888.csv\" , dtype = str)"
   ]
  },
  {
   "cell_type": "code",
   "execution_count": 6,
   "metadata": {},
   "outputs": [],
   "source": [
    "#the first row is a subheading for the coloumns which seems redundant since the coloumn names are self-explanatory,\n",
    "#hence droping first row\n",
    "df = df.drop(index=[0] , axis=0)"
   ]
  },
  {
   "cell_type": "code",
   "execution_count": 7,
   "metadata": {},
   "outputs": [],
   "source": [
    "#the algorithms require restricted features hence dropping a few, this is part of pre-processing\n",
    "df = df.drop(df.columns[[0,1,2,3,6,8,9,10,11, 14,15,17,20,22, 23, 24, 25,26,27, 28, 29, 30, 31, 32, 35, 36, 37, 38, 39, 40, 41, 42, 43, 44 ,45, 46 ]] , axis=1)"
   ]
  },
  {
   "cell_type": "code",
   "execution_count": 8,
   "metadata": {},
   "outputs": [],
   "source": [
    "#dropping null values\n",
    "df= df.dropna()"
   ]
  },
  {
   "cell_type": "code",
   "execution_count": 9,
   "metadata": {},
   "outputs": [],
   "source": [
    "#renaming the protected attributes , so that it is easier to mention protected groups for use in algorithm\n",
    "df = df.rename(columns= {\"SUBJECT_RACE\" : \"race\" , \"SUBJECT_GENDER\" : \"sex\" })"
   ]
  },
  {
   "cell_type": "code",
   "execution_count": 11,
   "metadata": {},
   "outputs": [],
   "source": [
    "#code defined for preprocessing into StandardDataset class, referred from \n",
    "#\"https://github.com/Trusted-AI/AIF360/blob/master/aif360/algorithms/preprocessing/optim_preproc_helpers/data_preproc_functions.py\"\n",
    "#StandardDataset mapping referred from \"https://github.com/Trusted-AI/AIF360/blob/746e763191ef46ba3ab5c601b96ce3f6dcb772fd/aif360/datasets/standard_dataset.py#L9\"\n",
    "\n",
    "\n",
    "def load_preproc_data(protected_attributes=None):\n",
    "    def custom_preprocessing(df):\n",
    "        \n",
    "         # Restrict races to White and Black\n",
    "        dfcutM = df.loc[~df[\"race\"].isin([\"American Ind\",\"Hispanic\",\"Asian\",\"Other\"]),:]\n",
    "        \n",
    "         #Restrict sex to male and female\n",
    "        dfcutM = df.loc[~df[\"sex\"].isin([\"Unknown\"]),:]\n",
    "\n",
    "        # Restrict the features to use\n",
    "        dfcutM = dfcutM[[\"race\" , \"sex\", \"SUBJECT_WAS_ARRESTED\",\"SUBJECT_OFFENSE\" , \"REPORTING_AREA\" ]]\n",
    "\n",
    "        def group_race(x):\n",
    "            if x == \"White\":\n",
    "                return 1.0\n",
    "            else:\n",
    "                return 0.0\n",
    "\n",
    "        # Recode sex and race\n",
    "        dfcutM[\"sex\"] = dfcutM[\"sex\"].replace({\"Female\": 1.0, \"Male\": 0.0})\n",
    "        dfcutM[\"race\"] = dfcutM[\"race\"].apply(lambda x: group_race(x))\n",
    "\n",
    "        return dfcutM\n",
    "    XD_features = ['race' , 'sex',\"SUBJECT_OFFENSE\" , \"REPORTING_AREA\" ]      #all features to be used\n",
    "    D_features = ['sex' , 'race']  if protected_attributes is None else protected_attributes #protected attributes\n",
    "    Y_features = ['SUBJECT_WAS_ARRESTED']\n",
    "    X_features = list(set(XD_features)-set(D_features))\n",
    "    categorical_features = [\"SUBJECT_OFFENSE\" , \"REPORTING_AREA\"  ]    #mentioned for one-hot encoding (for StandardDataset class)\n",
    "    all_privileged_classes = {\"sex\": [1.0],\n",
    "                              \"race\": [1.0]}\n",
    "    all_protected_attribute_maps = {\"sex\": {0.0: 'Male', 1.0: 'Female'},     #protected attribute mapping\n",
    "                                    \"race\": {1.0: 'White', 0.0: 'Black'}}\n",
    "\n",
    "#specify StandardDataset class mapping\n",
    "    return StandardDataset(\n",
    "        df = dfcutM ,\n",
    "        label_name = Y_features[0],\n",
    "        favorable_classes = [\"No\"],\n",
    "        protected_attribute_names = D_features,\n",
    "        privileged_classes = [all_privileged_classes[x] for x in D_features],\n",
    "        instance_weights_name=None, \n",
    "        categorical_features= categorical_features, \n",
    "        features_to_keep=X_features+Y_features+D_features, \n",
    "        na_values=[],\n",
    "        custom_preprocessing=custom_preprocessing, \n",
    "        metadata={'label_maps': [{1.0: 'No', 0.0: 'Yes'}],\n",
    "                  'protected_attribute_maps': [all_protected_attribute_maps[x]\n",
    "                                for x in D_features]})"
   ]
  },
  {
   "cell_type": "markdown",
   "metadata": {},
   "source": [
    "### Load StandardDataset"
   ]
  },
  {
   "cell_type": "code",
   "execution_count": 12,
   "metadata": {},
   "outputs": [],
   "source": [
    "#loading StandardDataset, i.e, structured dataset required by algorithm\n",
    "df_orig = load_preproc_data([\"sex\"])   #in this notebook , 'sex' is the protected attribute"
   ]
  },
  {
   "cell_type": "code",
   "execution_count": 14,
   "metadata": {},
   "outputs": [],
   "source": [
    "privileged_groups = [{\"sex\" : 1 }] # female\n",
    "unprivileged_groups = [{\"sex\": 0 }] # male"
   ]
  },
  {
   "cell_type": "markdown",
   "metadata": {},
   "source": [
    "## Bias detection"
   ]
  },
  {
   "cell_type": "code",
   "execution_count": 16,
   "metadata": {},
   "outputs": [
    {
     "data": {
      "text/markdown": [
       "#### Original dataset"
      ],
      "text/plain": [
       "<IPython.core.display.Markdown object>"
      ]
     },
     "metadata": {},
     "output_type": "display_data"
    },
    {
     "name": "stdout",
     "output_type": "stream",
     "text": [
      "Difference in mean outcomes between unprivileged and privileged groups = -0.204388\n"
     ]
    }
   ],
   "source": [
    "#bias detected for whole dataset, Statistical Parity Difference (SPR) is calculated using Metric class from aif360\n",
    "#https://github.com/Trusted-AI/AIF360/blob/746e763191ef46ba3ab5c601b96ce3f6dcb772fd/aif360/metrics/binary_label_dataset_metric.py\n",
    "\n",
    "metric_orig_dataset = BinaryLabelDatasetMetric(df_orig, \n",
    "                                             unprivileged_groups=unprivileged_groups,\n",
    "                                             privileged_groups=privileged_groups)\n",
    "display(Markdown(\"#### Original dataset\"))\n",
    "print(\"Difference in mean outcomes between unprivileged and privileged groups = %f\" % metric_orig_dataset.mean_difference())"
   ]
  },
  {
   "cell_type": "code",
   "execution_count": 17,
   "metadata": {},
   "outputs": [],
   "source": [
    "#train test val split\n",
    "df_orig_train, df_orig_vt = df_orig.split([0.7], shuffle=True)\n",
    "df_orig_valid , df_orig_test = df_orig_vt.split([0.5] , shuffle = True)"
   ]
  },
  {
   "cell_type": "code",
   "execution_count": 18,
   "metadata": {},
   "outputs": [
    {
     "data": {
      "text/markdown": [
       "#### Original training dataset"
      ],
      "text/plain": [
       "<IPython.core.display.Markdown object>"
      ]
     },
     "metadata": {},
     "output_type": "display_data"
    },
    {
     "name": "stdout",
     "output_type": "stream",
     "text": [
      "Difference in mean outcomes between unprivileged and privileged groups = -0.185257\n"
     ]
    }
   ],
   "source": [
    "#bias measure for Original train data\n",
    "metric_orig_train = BinaryLabelDatasetMetric(df_orig_train, \n",
    "                                             unprivileged_groups=unprivileged_groups,\n",
    "                                             privileged_groups=privileged_groups)\n",
    "display(Markdown(\"#### Original training dataset\"))\n",
    "print(\"Difference in mean outcomes between unprivileged and privileged groups = %f\" % metric_orig_train.mean_difference())"
   ]
  },
  {
   "cell_type": "code",
   "execution_count": 19,
   "metadata": {},
   "outputs": [
    {
     "data": {
      "text/markdown": [
       "#### Original dataset"
      ],
      "text/plain": [
       "<IPython.core.display.Markdown object>"
      ]
     },
     "metadata": {},
     "output_type": "display_data"
    },
    {
     "name": "stdout",
     "output_type": "stream",
     "text": [
      "Difference in mean outcomes between unprivileged and privileged groups = -0.248241\n"
     ]
    }
   ],
   "source": [
    "#bias measure for Original test data\n",
    "metric_orig_test = BinaryLabelDatasetMetric(df_orig_test, \n",
    "                                             unprivileged_groups=unprivileged_groups,\n",
    "                                             privileged_groups=privileged_groups)\n",
    "display(Markdown(\"#### Original dataset\"))\n",
    "print(\"Difference in mean outcomes between unprivileged and privileged groups = %f\" % metric_orig_test.mean_difference())"
   ]
  },
  {
   "cell_type": "markdown",
   "metadata": {},
   "source": [
    "## Reweighing"
   ]
  },
  {
   "cell_type": "code",
   "execution_count": 20,
   "metadata": {},
   "outputs": [],
   "source": [
    "#re-weighing algorithm from \"https://github.com/Trusted-AI/AIF360/blob/746e763191ef46ba3ab5c601b96ce3f6dcb772fd/aif360/algorithms/preprocessing/reweighing.py\"\n",
    "RW = Reweighing(unprivileged_groups=unprivileged_groups,\n",
    "               privileged_groups=privileged_groups)"
   ]
  },
  {
   "cell_type": "code",
   "execution_count": 21,
   "metadata": {},
   "outputs": [
    {
     "data": {
      "text/plain": [
       "<aif360.algorithms.preprocessing.reweighing.Reweighing at 0x7f936d1b3250>"
      ]
     },
     "execution_count": 21,
     "metadata": {},
     "output_type": "execute_result"
    }
   ],
   "source": [
    "#Reweighing\n",
    "RW = RW.fit(df_orig_train)"
   ]
  },
  {
   "cell_type": "code",
   "execution_count": 22,
   "metadata": {},
   "outputs": [],
   "source": [
    "#transforming Original train data to Transformed train data\n",
    "df_rw_transf_train = RW.transform(df_orig_train)"
   ]
  },
  {
   "cell_type": "code",
   "execution_count": 23,
   "metadata": {},
   "outputs": [],
   "source": [
    "#transforming Original test data to Transformed test data\n",
    "df_rw_transf_test = RW.transform(df_orig_test)"
   ]
  },
  {
   "cell_type": "code",
   "execution_count": 24,
   "metadata": {},
   "outputs": [],
   "source": [
    "#testing\n",
    "assert np.abs(df_rw_transf_train.instance_weights.sum()-df_orig_train.instance_weights.sum())<1e-6"
   ]
  },
  {
   "cell_type": "code",
   "execution_count": 25,
   "metadata": {},
   "outputs": [
    {
     "data": {
      "text/markdown": [
       "#### Transformed training dataset"
      ],
      "text/plain": [
       "<IPython.core.display.Markdown object>"
      ]
     },
     "metadata": {},
     "output_type": "display_data"
    },
    {
     "name": "stdout",
     "output_type": "stream",
     "text": [
      "Difference in mean outcomes between unprivileged and privileged groups = -0.000000\n"
     ]
    }
   ],
   "source": [
    "#measuring SPR for transformed train data\n",
    "metric_rw_transf_train = BinaryLabelDatasetMetric(df_rw_transf_train, \n",
    "                                         unprivileged_groups=unprivileged_groups,\n",
    "                                         privileged_groups=privileged_groups)\n",
    "display(Markdown(\"#### Transformed training dataset\"))\n",
    "print(\"Difference in mean outcomes between unprivileged and privileged groups = %f\" % metric_rw_transf_train.mean_difference())"
   ]
  },
  {
   "cell_type": "code",
   "execution_count": 26,
   "metadata": {},
   "outputs": [
    {
     "data": {
      "text/markdown": [
       "#### Transformed test dataset"
      ],
      "text/plain": [
       "<IPython.core.display.Markdown object>"
      ]
     },
     "metadata": {},
     "output_type": "display_data"
    },
    {
     "name": "stdout",
     "output_type": "stream",
     "text": [
      "Difference in mean outcomes between unprivileged and privileged groups = -0.064999\n"
     ]
    }
   ],
   "source": [
    "#measuring SPR for transformed test data\n",
    "metric_rw_transf_test = BinaryLabelDatasetMetric(df_rw_transf_test, \n",
    "                                         unprivileged_groups=unprivileged_groups,\n",
    "                                         privileged_groups=privileged_groups)\n",
    "display(Markdown(\"#### Transformed test dataset\"))\n",
    "print(\"Difference in mean outcomes between unprivileged and privileged groups = %f\" % metric_rw_transf_test.mean_difference())"
   ]
  },
  {
   "cell_type": "markdown",
   "metadata": {},
   "source": [
    "## Original classifier"
   ]
  },
  {
   "cell_type": "code",
   "execution_count": 29,
   "metadata": {},
   "outputs": [],
   "source": [
    "#standardization\n",
    "scale_rw_orig = StandardScaler()    #for scaling\n",
    "X_rw_train = scale_rw_orig.fit_transform(df_orig_train.features)   #standardize training features, scaling to unit variance\n",
    "y_rw_train = df_orig_train.labels.ravel()\n",
    "w__rw_train = df_orig_train.instance_weights.ravel()      #specifiying original weights"
   ]
  },
  {
   "cell_type": "code",
   "execution_count": 30,
   "metadata": {},
   "outputs": [],
   "source": [
    "#training on LogisticRegressor\n",
    "lmod = LogisticRegression()\n",
    "lmod.fit(X_rw_train, y_rw_train, \n",
    "         sample_weight=df_orig_train.instance_weights)\n",
    "y_rw_train_pred = lmod.predict(X_rw_train)    #predictions"
   ]
  },
  {
   "cell_type": "code",
   "execution_count": 31,
   "metadata": {},
   "outputs": [],
   "source": [
    "#positive class index\n",
    "pos_ind = np.where(lmod.classes_ == df_orig_train.favorable_label)[0][0]"
   ]
  },
  {
   "cell_type": "code",
   "execution_count": 32,
   "metadata": {},
   "outputs": [],
   "source": [
    "#defining predictions\n",
    "df_orig_train_pred = df_orig_train.copy()\n",
    "\n",
    "df_orig_train_pred.labels = y_rw_train_pred"
   ]
  },
  {
   "cell_type": "markdown",
   "metadata": {},
   "source": [
    "#### Obtain scores for original validation and test set "
   ]
  },
  {
   "cell_type": "code",
   "execution_count": 33,
   "metadata": {},
   "outputs": [],
   "source": [
    "df_orig_valid_pred = df_orig_valid.copy(deepcopy=True)   #get validation set values\n",
    "X_rw_valid = scale_rw_orig.transform(df_orig_valid_pred.features)   #scaling\n",
    "y_rw_valid = df_orig_valid_pred.labels      #define predictions for val set\n",
    "df_orig_valid_pred.scores = lmod.predict_proba(X_rw_valid)[:,pos_ind].reshape(-1,1)   #getting scores for validation set"
   ]
  },
  {
   "cell_type": "code",
   "execution_count": 34,
   "metadata": {},
   "outputs": [],
   "source": [
    "#same process on original test data\n",
    "df_orig_test_pred = df_orig_test.copy(deepcopy=True)\n",
    "X_rw_test = scale_rw_orig.transform(df_orig_test_pred.features)\n",
    "y_rw_test = df_orig_test_pred.labels\n",
    "df_orig_test_pred.scores = lmod.predict_proba(X_rw_test)[:,pos_ind].reshape(-1,1)"
   ]
  },
  {
   "cell_type": "markdown",
   "metadata": {},
   "source": [
    "### Obtain optimal threshold from validation scores"
   ]
  },
  {
   "cell_type": "code",
   "execution_count": 35,
   "metadata": {},
   "outputs": [
    {
     "name": "stdout",
     "output_type": "stream",
     "text": [
      "Best balanced accuracy (no reweighing) = 0.6274\n",
      "Optimal classification threshold (no reweighing) = 0.1585\n"
     ]
    }
   ],
   "source": [
    "#algorithm for obtaining optimal threshold \"https://github.com/Trusted-AI/AIF360/blob/746e763191ef46ba3ab5c601b96ce3f6dcb772fd/examples/demo_reweighing_preproc.ipynb\"\n",
    "#algorithm for ClassificationMetric from \"https://github.com/Trusted-AI/AIF360/blob/746e763191ef46ba3ab5c601b96ce3f6dcb772fd/aif360/metrics/classification_metric.py\"\n",
    "\n",
    "num_thresh = 100\n",
    "ba_arr = np.zeros(num_thresh)\n",
    "class_thresh_arr = np.linspace(0.01, 0.99, num_thresh)\n",
    "for idx, class_thresh in enumerate(class_thresh_arr):\n",
    "    \n",
    "    fav_inds = df_orig_valid_pred.scores > class_thresh\n",
    "    df_orig_valid_pred.labels[fav_inds] = df_orig_valid_pred.favorable_label        #setting classification threshold\n",
    "    df_orig_valid_pred.labels[~fav_inds] = df_orig_valid_pred.unfavorable_label     #for favourable and unfavourable labels\n",
    "    \n",
    "    classified_metric_orig_valid = ClassificationMetric(df_orig_valid,\n",
    "                                             df_orig_valid_pred, \n",
    "                                             unprivileged_groups=unprivileged_groups,  #get classification metrics\n",
    "                                             privileged_groups=privileged_groups)      # includes accuracy\n",
    "     \n",
    "    ba_arr[idx] = 0.5*(classified_metric_orig_valid.true_positive_rate()\\\n",
    "                       +classified_metric_orig_valid.true_negative_rate())\n",
    "\n",
    "best_ind = np.where(ba_arr == np.max(ba_arr))[0][0]\n",
    "best_class_thresh = class_thresh_arr[best_ind]            #calculate optimal threshold\n",
    "\n",
    "print(\"Best balanced accuracy (no reweighing) = %.4f\" % np.max(ba_arr))\n",
    "print(\"Optimal classification threshold (no reweighing) = %.4f\" % best_class_thresh)"
   ]
  },
  {
   "cell_type": "code",
   "execution_count": 36,
   "metadata": {},
   "outputs": [],
   "source": [
    "#code for computing metrics from predictions from classifiers. adopted from \"https://github.com/Trusted-AI/AIF360/blob/master/examples/common_utils.py\"\n",
    "\n",
    "def compute_metrics(dataset_true, dataset_pred, \n",
    "                    unprivileged_groups, privileged_groups,\n",
    "                    disp = True):\n",
    "    \"\"\" Compute the key metrics \"\"\"\n",
    "    classified_metric_pred = ClassificationMetric(dataset_true,\n",
    "                                                 dataset_pred, \n",
    "                                                 unprivileged_groups=unprivileged_groups,\n",
    "                                                 privileged_groups=privileged_groups)\n",
    "    metrics = OrderedDict()\n",
    "    metrics[\"Balanced accuracy\"] = 0.5*(classified_metric_pred.true_positive_rate()+\n",
    "                                             classified_metric_pred.true_negative_rate())\n",
    "    metrics[\"Statistical parity difference\"] = classified_metric_pred.statistical_parity_difference()\n",
    "    metrics[\"Disparate impact\"] = classified_metric_pred.disparate_impact()\n",
    "    metrics[\"Average odds difference\"] = classified_metric_pred.average_odds_difference()\n",
    "    metrics[\"Equal opportunity difference\"] = classified_metric_pred.equal_opportunity_difference()\n",
    "    metrics[\"Theil index\"] = classified_metric_pred.theil_index()\n",
    "    \n",
    "    if disp:\n",
    "        for k in metrics:\n",
    "            print(\"%s = %.4f\" % (k, metrics[k]))\n",
    "    \n",
    "    return metrics"
   ]
  },
  {
   "cell_type": "markdown",
   "metadata": {},
   "source": [
    "## Metrics for predictions from the original classifier"
   ]
  },
  {
   "cell_type": "code",
   "execution_count": null,
   "metadata": {},
   "outputs": [],
   "source": [
    "#several metrics are displayed here, I included them in the code to understand perfomance better\n",
    "#but in the report only accuracy, Average Odds Difference are defined and hence used for comparisons."
   ]
  },
  {
   "cell_type": "code",
   "execution_count": 38,
   "metadata": {},
   "outputs": [
    {
     "data": {
      "text/markdown": [
       "#### Predictions from original testing data"
      ],
      "text/plain": [
       "<IPython.core.display.Markdown object>"
      ]
     },
     "metadata": {},
     "output_type": "display_data"
    },
    {
     "name": "stderr",
     "output_type": "stream",
     "text": [
      "100%|██████████| 100/100 [00:00<00:00, 841.62it/s]"
     ]
    },
    {
     "name": "stdout",
     "output_type": "stream",
     "text": [
      "Classification threshold used = 0.1585\n",
      "Balanced accuracy = 0.6230\n",
      "Statistical parity difference = -0.2160\n",
      "Disparate impact = 0.6760\n",
      "Average odds difference = -0.1457\n",
      "Equal opportunity difference = -0.0204\n",
      "Theil index = 0.1806\n"
     ]
    },
    {
     "name": "stderr",
     "output_type": "stream",
     "text": [
      "\n"
     ]
    }
   ],
   "source": [
    "display(Markdown(\"#### Predictions from original testing data\"))\n",
    "bal_acc_arr_orig = []\n",
    "disp_imp_arr_orig = []\n",
    "avg_odds_diff_arr_orig = []\n",
    "\n",
    "print(\"Classification threshold used = %.4f\" % best_class_thresh)\n",
    "for thresh in tqdm(class_thresh_arr):\n",
    "    \n",
    "    if thresh == best_class_thresh:\n",
    "        disp = True\n",
    "    else:\n",
    "        disp = False\n",
    "    \n",
    "    fav_inds = df_orig_test_pred.scores > thresh\n",
    "    df_orig_test_pred.labels[fav_inds] = df_orig_test_pred.favorable_label\n",
    "    df_orig_test_pred.labels[~fav_inds] = df_orig_test_pred.unfavorable_label\n",
    "    \n",
    "    metric_test_bef = compute_metrics(df_orig_test, df_orig_test_pred, \n",
    "                                      unprivileged_groups, privileged_groups,\n",
    "                                      disp = disp)\n",
    "\n",
    "    bal_acc_arr_orig.append(metric_test_bef[\"Balanced accuracy\"])\n",
    "    avg_odds_diff_arr_orig.append(metric_test_bef[\"Average odds difference\"])\n",
    "    disp_imp_arr_orig.append(metric_test_bef[\"Disparate impact\"])"
   ]
  },
  {
   "cell_type": "markdown",
   "metadata": {},
   "source": [
    "#### Balanced accuracy vs Average odds difference graph for original classifier"
   ]
  },
  {
   "cell_type": "code",
   "execution_count": 43,
   "metadata": {},
   "outputs": [
    {
     "data": {
      "image/png": "[encoded data removed]",
      "text/plain": [
       "<Figure size 720x504 with 2 Axes>"
      ]
     },
     "metadata": {
      "needs_background": "light"
     },
     "output_type": "display_data"
    }
   ],
   "source": [
    "fig, ax1 = plt.subplots(figsize=(10,7))\n",
    "ax1.plot(class_thresh_arr, bal_acc_arr_orig)\n",
    "ax1.set_xlabel('Classification Thresholds', fontsize=16, fontweight='bold')\n",
    "ax1.set_ylabel('Balanced Accuracy', color='b', fontsize=16, fontweight='bold')\n",
    "ax1.xaxis.set_tick_params(labelsize=14)\n",
    "ax1.yaxis.set_tick_params(labelsize=14)\n",
    "\n",
    "\n",
    "ax2 = ax1.twinx()\n",
    "ax2.plot(class_thresh_arr, avg_odds_diff_arr_orig, color='r')\n",
    "ax2.set_ylabel('avg. odds diff.', color='r', fontsize=16, fontweight='bold')\n",
    "ax2.axvline(best_class_thresh, color='k', linestyle=':')\n",
    "ax2.yaxis.set_tick_params(labelsize=14)\n",
    "ax2.grid(True)"
   ]
  },
  {
   "cell_type": "markdown",
   "metadata": {},
   "source": [
    "# Transformed classifier"
   ]
  },
  {
   "cell_type": "markdown",
   "metadata": {},
   "source": [
    "### Training classifier on transformed train data"
   ]
  },
  {
   "cell_type": "code",
   "execution_count": 39,
   "metadata": {},
   "outputs": [],
   "source": [
    "scale_rw_transf = StandardScaler()      #for standardization ,same scaler used as original train data\n",
    "X_train = scale_rw_transf.fit_transform(df_rw_transf_train.features)      #scaling to unit variance the transformed\n",
    "y_train = df_rw_transf_train.labels.ravel()                               #train data and specifying weights\n",
    " \n",
    "lmod = LogisticRegression()\n",
    "lmod.fit(X_train, y_train,\n",
    "        sample_weight=df_rw_transf_train.instance_weights)\n",
    "y_train_pred = lmod.predict(X_train)"
   ]
  },
  {
   "cell_type": "code",
   "execution_count": 40,
   "metadata": {},
   "outputs": [],
   "source": [
    "df_transf_test_pred = df_rw_transf_test.copy(deepcopy=True)\n",
    "X_test = scale_rw_transf.fit_transform(df_transf_test_pred.features)\n",
    "y_test = df_transf_test_pred.labels\n",
    "df_transf_test_pred.scores = lmod.predict_proba(X_test)[:,pos_ind].reshape(-1,1)"
   ]
  },
  {
   "cell_type": "markdown",
   "metadata": {},
   "source": [
    "## Metrics for predictions from transformed classifier"
   ]
  },
  {
   "cell_type": "code",
   "execution_count": 42,
   "metadata": {},
   "outputs": [
    {
     "data": {
      "text/markdown": [
       "#### Predictions from transformed testing data"
      ],
      "text/plain": [
       "<IPython.core.display.Markdown object>"
      ]
     },
     "metadata": {},
     "output_type": "display_data"
    },
    {
     "name": "stderr",
     "output_type": "stream",
     "text": [
      " 70%|███████   | 70/100 [00:00<00:00, 694.93it/s]divide by zero encountered in double_scalars\n",
      "100%|██████████| 100/100 [00:00<00:00, 755.39it/s]"
     ]
    },
    {
     "name": "stdout",
     "output_type": "stream",
     "text": [
      "Classification threshold used = 0.1585\n",
      "Balanced accuracy = 0.6187\n",
      "Statistical parity difference = -0.0581\n",
      "Disparate impact = 0.8798\n",
      "Average odds difference = -0.0241\n",
      "Equal opportunity difference = 0.0865\n",
      "Theil index = 0.2196\n"
     ]
    },
    {
     "name": "stderr",
     "output_type": "stream",
     "text": [
      "\n"
     ]
    }
   ],
   "source": [
    "display(Markdown(\"#### Predictions from transformed testing data\"))\n",
    "bal_acc_arr_transf = []\n",
    "disp_imp_arr_transf = []\n",
    "avg_odds_diff_arr_transf = []\n",
    "\n",
    "print(\"Classification threshold used = %.4f\" % best_class_thresh)\n",
    "for thresh in tqdm(class_thresh_arr):\n",
    "    \n",
    "    if thresh == best_class_thresh:\n",
    "        disp = True\n",
    "    else:\n",
    "        disp = False\n",
    "    \n",
    "    fav_inds = df_transf_test_pred.scores > thresh\n",
    "    df_transf_test_pred.labels[fav_inds] = df_transf_test_pred.favorable_label\n",
    "    df_transf_test_pred.labels[~fav_inds] = df_transf_test_pred.unfavorable_label\n",
    "    \n",
    "    metric_test_aft = compute_metrics(df_rw_transf_test, df_transf_test_pred, \n",
    "                                      unprivileged_groups, privileged_groups,\n",
    "                                      disp = disp)\n",
    "\n",
    "    bal_acc_arr_transf.append(metric_test_aft[\"Balanced accuracy\"])\n",
    "    avg_odds_diff_arr_transf.append(metric_test_aft[\"Average odds difference\"])\n",
    "    disp_imp_arr_transf.append(metric_test_aft[\"Disparate impact\"])"
   ]
  },
  {
   "cell_type": "markdown",
   "metadata": {},
   "source": [
    "#### Balanced accuracy vs Average Odds Difference graph for transformed classifier"
   ]
  },
  {
   "cell_type": "code",
   "execution_count": 44,
   "metadata": {},
   "outputs": [
    {
     "data": {
      "image/png": "[encoded data removed]",
      "text/plain": [
       "<Figure size 720x504 with 2 Axes>"
      ]
     },
     "metadata": {
      "needs_background": "light"
     },
     "output_type": "display_data"
    }
   ],
   "source": [
    "fig, ax1 = plt.subplots(figsize=(10,7))\n",
    "ax1.plot(class_thresh_arr, bal_acc_arr_transf)\n",
    "ax1.set_xlabel('Classification Thresholds', fontsize=16, fontweight='bold')\n",
    "ax1.set_ylabel('Balanced Accuracy', color='b', fontsize=16, fontweight='bold')\n",
    "ax1.xaxis.set_tick_params(labelsize=14)\n",
    "ax1.yaxis.set_tick_params(labelsize=14)\n",
    "\n",
    "\n",
    "ax2 = ax1.twinx()\n",
    "ax2.plot(class_thresh_arr, avg_odds_diff_arr_transf, color='r')\n",
    "ax2.set_ylabel('avg. odds diff.', color='r', fontsize=16, fontweight='bold')\n",
    "ax2.axvline(best_class_thresh, color='k', linestyle=':')\n",
    "ax2.yaxis.set_tick_params(labelsize=14)\n",
    "ax2.grid(True)"
   ]
  },
  {
   "cell_type": "code",
   "execution_count": null,
   "metadata": {},
   "outputs": [],
   "source": []
  }
 ],
 "metadata": {
  "kernelspec": {
   "display_name": "Python 3",
   "language": "python",
   "name": "python3"
  },
  "language_info": {
   "codemirror_mode": {
    "name": "ipython",
    "version": 3
   },
   "file_extension": ".py",
   "mimetype": "text/x-python",
   "name": "python",
   "nbconvert_exporter": "python",
   "pygments_lexer": "ipython3",
   "version": "3.8.5"
  }
 },
 "nbformat": 4,
 "nbformat_minor": 4
}
